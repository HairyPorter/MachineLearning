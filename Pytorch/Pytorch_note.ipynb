{
 "cells": [
  {
   "cell_type": "markdown",
   "metadata": {},
   "source": [
    "# 记录一下Pytorch用法"
   ]
  },
  {
   "cell_type": "code",
   "execution_count": 7,
   "metadata": {},
   "outputs": [],
   "source": [
    "import torch"
   ]
  },
  {
   "cell_type": "markdown",
   "metadata": {},
   "source": [
    "把列表转化为tensor"
   ]
  },
  {
   "cell_type": "code",
   "execution_count": 8,
   "metadata": {},
   "outputs": [
    {
     "data": {
      "text/plain": [
       "tensor([[1, 2, 3],\n",
       "        [4, 5, 6]])"
      ]
     },
     "execution_count": 8,
     "metadata": {},
     "output_type": "execute_result"
    }
   ],
   "source": [
    "\n",
    "a=torch.tensor([[1,2,3],[4,5,6]])\n",
    "a"
   ]
  },
  {
   "cell_type": "markdown",
   "metadata": {},
   "source": [
    "一些生成特定tensor的方法"
   ]
  },
  {
   "cell_type": "code",
   "execution_count": 22,
   "metadata": {},
   "outputs": [
    {
     "name": "stdout",
     "output_type": "stream",
     "text": [
      "torch.Size([2, 3, 4, 5, 6])\n",
      "torch.Size([3, 4, 5])\n"
     ]
    }
   ],
   "source": [
    "O=torch.zeros(2,3,4,5,6)\n",
    "I=torch.ones(2,3,5)\n",
    "Ran=torch.randn(3,4,5)\n",
    "\n",
    "print(O.shape)\n",
    "print(Ran.shape)"
   ]
  },
  {
   "cell_type": "markdown",
   "metadata": {},
   "source": [
    "生成一些同shape的tensor"
   ]
  },
  {
   "cell_type": "code",
   "execution_count": 25,
   "metadata": {},
   "outputs": [
    {
     "data": {
      "text/plain": [
       "tensor([[[[[True, True, True, True, True, True],\n",
       "           [True, True, True, True, True, True],\n",
       "           [True, True, True, True, True, True],\n",
       "           [True, True, True, True, True, True],\n",
       "           [True, True, True, True, True, True]],\n",
       "\n",
       "          [[True, True, True, True, True, True],\n",
       "           [True, True, True, True, True, True],\n",
       "           [True, True, True, True, True, True],\n",
       "           [True, True, True, True, True, True],\n",
       "           [True, True, True, True, True, True]],\n",
       "\n",
       "          [[True, True, True, True, True, True],\n",
       "           [True, True, True, True, True, True],\n",
       "           [True, True, True, True, True, True],\n",
       "           [True, True, True, True, True, True],\n",
       "           [True, True, True, True, True, True]],\n",
       "\n",
       "          [[True, True, True, True, True, True],\n",
       "           [True, True, True, True, True, True],\n",
       "           [True, True, True, True, True, True],\n",
       "           [True, True, True, True, True, True],\n",
       "           [True, True, True, True, True, True]]],\n",
       "\n",
       "\n",
       "         [[[True, True, True, True, True, True],\n",
       "           [True, True, True, True, True, True],\n",
       "           [True, True, True, True, True, True],\n",
       "           [True, True, True, True, True, True],\n",
       "           [True, True, True, True, True, True]],\n",
       "\n",
       "          [[True, True, True, True, True, True],\n",
       "           [True, True, True, True, True, True],\n",
       "           [True, True, True, True, True, True],\n",
       "           [True, True, True, True, True, True],\n",
       "           [True, True, True, True, True, True]],\n",
       "\n",
       "          [[True, True, True, True, True, True],\n",
       "           [True, True, True, True, True, True],\n",
       "           [True, True, True, True, True, True],\n",
       "           [True, True, True, True, True, True],\n",
       "           [True, True, True, True, True, True]],\n",
       "\n",
       "          [[True, True, True, True, True, True],\n",
       "           [True, True, True, True, True, True],\n",
       "           [True, True, True, True, True, True],\n",
       "           [True, True, True, True, True, True],\n",
       "           [True, True, True, True, True, True]]],\n",
       "\n",
       "\n",
       "         [[[True, True, True, True, True, True],\n",
       "           [True, True, True, True, True, True],\n",
       "           [True, True, True, True, True, True],\n",
       "           [True, True, True, True, True, True],\n",
       "           [True, True, True, True, True, True]],\n",
       "\n",
       "          [[True, True, True, True, True, True],\n",
       "           [True, True, True, True, True, True],\n",
       "           [True, True, True, True, True, True],\n",
       "           [True, True, True, True, True, True],\n",
       "           [True, True, True, True, True, True]],\n",
       "\n",
       "          [[True, True, True, True, True, True],\n",
       "           [True, True, True, True, True, True],\n",
       "           [True, True, True, True, True, True],\n",
       "           [True, True, True, True, True, True],\n",
       "           [True, True, True, True, True, True]],\n",
       "\n",
       "          [[True, True, True, True, True, True],\n",
       "           [True, True, True, True, True, True],\n",
       "           [True, True, True, True, True, True],\n",
       "           [True, True, True, True, True, True],\n",
       "           [True, True, True, True, True, True]]]],\n",
       "\n",
       "\n",
       "\n",
       "        [[[[True, True, True, True, True, True],\n",
       "           [True, True, True, True, True, True],\n",
       "           [True, True, True, True, True, True],\n",
       "           [True, True, True, True, True, True],\n",
       "           [True, True, True, True, True, True]],\n",
       "\n",
       "          [[True, True, True, True, True, True],\n",
       "           [True, True, True, True, True, True],\n",
       "           [True, True, True, True, True, True],\n",
       "           [True, True, True, True, True, True],\n",
       "           [True, True, True, True, True, True]],\n",
       "\n",
       "          [[True, True, True, True, True, True],\n",
       "           [True, True, True, True, True, True],\n",
       "           [True, True, True, True, True, True],\n",
       "           [True, True, True, True, True, True],\n",
       "           [True, True, True, True, True, True]],\n",
       "\n",
       "          [[True, True, True, True, True, True],\n",
       "           [True, True, True, True, True, True],\n",
       "           [True, True, True, True, True, True],\n",
       "           [True, True, True, True, True, True],\n",
       "           [True, True, True, True, True, True]]],\n",
       "\n",
       "\n",
       "         [[[True, True, True, True, True, True],\n",
       "           [True, True, True, True, True, True],\n",
       "           [True, True, True, True, True, True],\n",
       "           [True, True, True, True, True, True],\n",
       "           [True, True, True, True, True, True]],\n",
       "\n",
       "          [[True, True, True, True, True, True],\n",
       "           [True, True, True, True, True, True],\n",
       "           [True, True, True, True, True, True],\n",
       "           [True, True, True, True, True, True],\n",
       "           [True, True, True, True, True, True]],\n",
       "\n",
       "          [[True, True, True, True, True, True],\n",
       "           [True, True, True, True, True, True],\n",
       "           [True, True, True, True, True, True],\n",
       "           [True, True, True, True, True, True],\n",
       "           [True, True, True, True, True, True]],\n",
       "\n",
       "          [[True, True, True, True, True, True],\n",
       "           [True, True, True, True, True, True],\n",
       "           [True, True, True, True, True, True],\n",
       "           [True, True, True, True, True, True],\n",
       "           [True, True, True, True, True, True]]],\n",
       "\n",
       "\n",
       "         [[[True, True, True, True, True, True],\n",
       "           [True, True, True, True, True, True],\n",
       "           [True, True, True, True, True, True],\n",
       "           [True, True, True, True, True, True],\n",
       "           [True, True, True, True, True, True]],\n",
       "\n",
       "          [[True, True, True, True, True, True],\n",
       "           [True, True, True, True, True, True],\n",
       "           [True, True, True, True, True, True],\n",
       "           [True, True, True, True, True, True],\n",
       "           [True, True, True, True, True, True]],\n",
       "\n",
       "          [[True, True, True, True, True, True],\n",
       "           [True, True, True, True, True, True],\n",
       "           [True, True, True, True, True, True],\n",
       "           [True, True, True, True, True, True],\n",
       "           [True, True, True, True, True, True]],\n",
       "\n",
       "          [[True, True, True, True, True, True],\n",
       "           [True, True, True, True, True, True],\n",
       "           [True, True, True, True, True, True],\n",
       "           [True, True, True, True, True, True],\n",
       "           [True, True, True, True, True, True]]]]])"
      ]
     },
     "execution_count": 25,
     "metadata": {},
     "output_type": "execute_result"
    }
   ],
   "source": [
    "Z = torch.zeros_like(O)\n",
    "Z.shape\n",
    "Z==O"
   ]
  },
  {
   "cell_type": "code",
   "execution_count": 27,
   "metadata": {},
   "outputs": [
    {
     "data": {
      "text/plain": [
       "tensor([[[True, True, True, True, True],\n",
       "         [True, True, True, True, True],\n",
       "         [True, True, True, True, True]],\n",
       "\n",
       "        [[True, True, True, True, True],\n",
       "         [True, True, True, True, True],\n",
       "         [True, True, True, True, True]]])"
      ]
     },
     "execution_count": 27,
     "metadata": {},
     "output_type": "execute_result"
    }
   ],
   "source": [
    "I2 = torch.ones_like(I)\n",
    "I2.shape\n",
    "I2==I"
   ]
  },
  {
   "cell_type": "code",
   "execution_count": 14,
   "metadata": {},
   "outputs": [],
   "source": [
    "A=torch.tensor([1,2,3,4,5,6,7,8,9\n",
    "                ,10,11,12]).reshape(3,4)# 不会重新分配内存，xX会互相影响,可以用x.clone()"
   ]
  },
  {
   "cell_type": "markdown",
   "metadata": {},
   "source": [
    "访问元素\n",
    "```python\n",
    "[1,2]\n",
    "[1,:]\n",
    "[1:3,1:]#子区域[1,3)不包含右边\n",
    "[::3,::2] #步长\n",
    "```"
   ]
  },
  {
   "cell_type": "code",
   "execution_count": null,
   "metadata": {},
   "outputs": [],
   "source": []
  },
  {
   "cell_type": "markdown",
   "metadata": {},
   "source": [
    "- shape读取tensor的形状，可以看作是维数从最外边的[]开始数；shape可以用[]读取相应为维度大小\n",
    "- numel直接得到元素数量"
   ]
  },
  {
   "cell_type": "code",
   "execution_count": 15,
   "metadata": {},
   "outputs": [
    {
     "name": "stdout",
     "output_type": "stream",
     "text": [
      "torch.Size([2, 3])\n",
      "2\n",
      "6\n"
     ]
    }
   ],
   "source": [
    "print(a.shape)\n",
    "print(a.shape[0])\n",
    "print(a.numel())"
   ]
  },
  {
   "cell_type": "code",
   "execution_count": null,
   "metadata": {},
   "outputs": [],
   "source": []
  }
 ],
 "metadata": {
  "kernelspec": {
   "display_name": "d2l",
   "language": "python",
   "name": "python3"
  },
  "language_info": {
   "codemirror_mode": {
    "name": "ipython",
    "version": 3
   },
   "file_extension": ".py",
   "mimetype": "text/x-python",
   "name": "python",
   "nbconvert_exporter": "python",
   "pygments_lexer": "ipython3",
   "version": "3.9.18"
  }
 },
 "nbformat": 4,
 "nbformat_minor": 2
}
