{
 "cells": [
  {
   "cell_type": "code",
   "execution_count": 1,
   "metadata": {},
   "outputs": [
    {
     "name": "stdout",
     "output_type": "stream",
     "text": [
      "hello world\n"
     ]
    }
   ],
   "source": [
    "print('hello world')"
   ]
  },
  {
   "cell_type": "code",
   "execution_count": 18,
   "metadata": {},
   "outputs": [
    {
     "name": "stdout",
     "output_type": "stream",
     "text": [
      "tensor([[ 0,  1,  2,  3],\n",
      "        [ 4,  5,  6,  7],\n",
      "        [ 8,  9, 10, 11]])\n",
      "tensor([ 6, 22, 38])\n"
     ]
    }
   ],
   "source": [
    "import torch\n",
    "x=torch.arange(12).reshape((3,4))\n",
    "print(x)\n",
    "print(x.sum(dim=1))\n",
    "shapex=x.shape\n",
    "numelx=x.numel()\n",
    "X=x.reshape(3,4)# 不会重新分配内存，xX会互相影响,可以用x.clone()\n",
    "O=torch.zeros((2,3,4,5,6))\n",
    "I=torch.ones((2,3,5))\n",
    "Ran=torch.randn(3,4,5)\n"
   ]
  },
  {
   "cell_type": "code",
   "execution_count": 26,
   "metadata": {},
   "outputs": [
    {
     "name": "stdout",
     "output_type": "stream",
     "text": [
      "tensor([[[ 0,  1,  2,  3,  4],\n",
      "         [ 5,  6,  7,  8,  9],\n",
      "         [10, 11, 12, 13, 14],\n",
      "         [15, 16, 17, 18, 19]],\n",
      "\n",
      "        [[20, 21, 22, 23, 24],\n",
      "         [25, 26, 27, 28, 29],\n",
      "         [30, 31, 32, 33, 34],\n",
      "         [35, 36, 37, 38, 39]],\n",
      "\n",
      "        [[40, 41, 42, 43, 44],\n",
      "         [45, 46, 47, 48, 49],\n",
      "         [50, 51, 52, 53, 54],\n",
      "         [55, 56, 57, 58, 59]]])\n",
      "tensor([[[190]],\n",
      "\n",
      "        [[590]],\n",
      "\n",
      "        [[990]]])\n",
      "torch.Size([3, 1, 1])\n"
     ]
    }
   ],
   "source": [
    "import torch\n",
    "x=torch.arange(12*5).reshape((3,4,5))\n",
    "print(x)\n",
    "y=x.sum(dim=[1,2],keepdim=True)\n",
    "print(y)\n",
    "print(y.shape)"
   ]
  },
  {
   "cell_type": "code",
   "execution_count": 2,
   "metadata": {},
   "outputs": [
    {
     "name": "stdout",
     "output_type": "stream",
     "text": [
      "id(Z): 1920994271376\n",
      "id(Z): 1920994271376\n",
      "id(Z): 1920994271376\n"
     ]
    }
   ],
   "source": [
    "X=torch.ones((2,3))\n",
    "Y=2*torch.ones((2,3))\n",
    "Z = torch.zeros_like(Y)\n",
    "print('id(Z):', id(Z))\n",
    "Z[:] = X + Y # 不用切边id不一样,\n",
    "print('id(Z):', id(Z))\n",
    "Z+=Y\n",
    "print('id(Z):', id(Z))"
   ]
  },
  {
   "cell_type": "markdown",
   "metadata": {},
   "source": [
    "访问元素\n",
    "```python\n",
    "[1,2]\n",
    "[1,:]\n",
    "[1:3,1:]#子区域[1,3)不包含右边\n",
    "[::3,::2] #步长\n",
    "```"
   ]
  },
  {
   "cell_type": "code",
   "execution_count": 6,
   "metadata": {},
   "outputs": [
    {
     "name": "stdout",
     "output_type": "stream",
     "text": [
      "tensor([0, 1, 2, 3, 4, 5, 6, 7, 8, 9])\n",
      "tensor([0, 2, 4, 6, 8])\n",
      "tensor([1, 3, 5, 7, 9])\n"
     ]
    }
   ],
   "source": [
    "import torch\n",
    "x=torch.arange(10)\n",
    "print(x)\n",
    "print(x[0::2])\n",
    "print(x[1::2])"
   ]
  },
  {
   "cell_type": "code",
   "execution_count": 7,
   "metadata": {},
   "outputs": [],
   "source": [
    "import os\n",
    "\n",
    "os.makedirs(os.path.join('..', 'data'), exist_ok=True)\n",
    "data_file = os.path.join('..', 'data', 'house_tiny.csv')\n",
    "with open(data_file, 'w') as f:\n",
    "    f.write('NumRooms,Alley,Price\\n')  # 列名\n",
    "    f.write('NA,Pave,127500\\n')  # 每行表示一个数据样本\n",
    "    f.write('2,NA,106000\\n')\n",
    "    f.write('4,NA,178100\\n')\n",
    "    f.write('NA,NA,140000\\n')"
   ]
  },
  {
   "cell_type": "code",
   "execution_count": 10,
   "metadata": {},
   "outputs": [
    {
     "name": "stdout",
     "output_type": "stream",
     "text": [
      "   NumRooms Alley   Price\n",
      "0       NaN  Pave  127500\n",
      "1       2.0   NaN  106000\n",
      "2       4.0   NaN  178100\n",
      "3       NaN   NaN  140000\n"
     ]
    }
   ],
   "source": [
    "# 如果没有安装pandas，只需取消对以下行的注释来安装pandas\n",
    "# !pip install pandas\n",
    "import pandas as pd\n",
    "\n",
    "data = pd.read_csv(data_file)\n",
    "print(data)\n"
   ]
  },
  {
   "cell_type": "code",
   "execution_count": 28,
   "metadata": {},
   "outputs": [
    {
     "name": "stdout",
     "output_type": "stream",
     "text": [
      "tensor(506)\n"
     ]
    }
   ],
   "source": [
    "import torch\n",
    "x=torch.arange(12)\n",
    "y=torch.arange(12)\n",
    "dotxy=torch.dot(x,y)\n",
    "print(dotxy)"
   ]
  },
  {
   "cell_type": "code",
   "execution_count": 41,
   "metadata": {},
   "outputs": [
    {
     "name": "stdout",
     "output_type": "stream",
     "text": [
      "tensor([14, 38, 62])\n",
      "tensor([[14],\n",
      "        [38],\n",
      "        [62]])\n",
      "tensor([14, 38, 62])\n"
     ]
    }
   ],
   "source": [
    "import torch\n",
    "x=torch.arange(4)\n",
    "xT=torch.arange(4).reshape((4,1))\n",
    "\n",
    "A=torch.arange(12).reshape((3,4))\n",
    "\n",
    "print(A@x)\n",
    "print(A@xT)\n",
    "print(x@A.t())"
   ]
  },
  {
   "cell_type": "markdown",
   "metadata": {},
   "source": []
  }
 ],
 "metadata": {
  "kernelspec": {
   "display_name": "d2l",
   "language": "python",
   "name": "python3"
  },
  "language_info": {
   "codemirror_mode": {
    "name": "ipython",
    "version": 3
   },
   "file_extension": ".py",
   "mimetype": "text/x-python",
   "name": "python",
   "nbconvert_exporter": "python",
   "pygments_lexer": "ipython3",
   "version": "3.9.18"
  }
 },
 "nbformat": 4,
 "nbformat_minor": 2
}
